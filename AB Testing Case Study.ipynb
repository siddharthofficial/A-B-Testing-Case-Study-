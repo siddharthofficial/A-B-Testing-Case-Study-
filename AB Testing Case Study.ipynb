{
 "cells": [
  {
   "cell_type": "markdown",
   "id": "fd3279ff-a545-4f6c-9e3d-8ff419daa0da",
   "metadata": {},
   "source": [
    "## Importing libraries"
   ]
  },
  {
   "cell_type": "code",
   "execution_count": 1,
   "id": "6c0c22b5-273e-49c0-89f1-bf0ac7b2f101",
   "metadata": {},
   "outputs": [],
   "source": [
    "import numpy as np\n",
    "import pandas as pd\n",
    "from scipy.stats import norm\n",
    "import matplotlib.pyplot as plt"
   ]
  },
  {
   "cell_type": "markdown",
   "id": "33a01bfd-f1c9-4c06-a459-c90155a9141f",
   "metadata": {},
   "source": [
    "## Loading our CTR data"
   ]
  },
  {
   "cell_type": "code",
   "execution_count": 2,
   "id": "6c050273-3552-4aec-b24c-ecfbf8f9d129",
   "metadata": {},
   "outputs": [
    {
     "data": {
      "text/html": [
       "<div>\n",
       "<style scoped>\n",
       "    .dataframe tbody tr th:only-of-type {\n",
       "        vertical-align: middle;\n",
       "    }\n",
       "\n",
       "    .dataframe tbody tr th {\n",
       "        vertical-align: top;\n",
       "    }\n",
       "\n",
       "    .dataframe thead th {\n",
       "        text-align: right;\n",
       "    }\n",
       "</style>\n",
       "<table border=\"1\" class=\"dataframe\">\n",
       "  <thead>\n",
       "    <tr style=\"text-align: right;\">\n",
       "      <th></th>\n",
       "      <th>product</th>\n",
       "      <th>banner_clicked</th>\n",
       "    </tr>\n",
       "  </thead>\n",
       "  <tbody>\n",
       "    <tr>\n",
       "      <th>0</th>\n",
       "      <td>A</td>\n",
       "      <td>0</td>\n",
       "    </tr>\n",
       "    <tr>\n",
       "      <th>1</th>\n",
       "      <td>B</td>\n",
       "      <td>0</td>\n",
       "    </tr>\n",
       "    <tr>\n",
       "      <th>2</th>\n",
       "      <td>A</td>\n",
       "      <td>0</td>\n",
       "    </tr>\n",
       "    <tr>\n",
       "      <th>3</th>\n",
       "      <td>B</td>\n",
       "      <td>0</td>\n",
       "    </tr>\n",
       "    <tr>\n",
       "      <th>4</th>\n",
       "      <td>A</td>\n",
       "      <td>0</td>\n",
       "    </tr>\n",
       "  </tbody>\n",
       "</table>\n",
       "</div>"
      ],
      "text/plain": [
       "  product  banner_clicked\n",
       "0       A               0\n",
       "1       B               0\n",
       "2       A               0\n",
       "3       B               0\n",
       "4       A               0"
      ]
     },
     "execution_count": 2,
     "metadata": {},
     "output_type": "execute_result"
    }
   ],
   "source": [
    "data=pd.read_csv(r\"C:\\Users\\siddhant\\Downloads\\clicks.csv\")\n",
    "data.head()"
   ]
  },
  {
   "cell_type": "code",
   "execution_count": 3,
   "id": "85e1319e-b81f-442f-86bf-d2e3aaf7d6bc",
   "metadata": {},
   "outputs": [
    {
     "data": {
      "text/plain": [
       "(10000, 2)"
      ]
     },
     "execution_count": 3,
     "metadata": {},
     "output_type": "execute_result"
    }
   ],
   "source": [
    "data.shape\n"
   ]
  },
  {
   "cell_type": "code",
   "execution_count": 4,
   "id": "595108d3-35c8-4e4b-a804-d45d0dfbc3c0",
   "metadata": {},
   "outputs": [
    {
     "name": "stdout",
     "output_type": "stream",
     "text": [
      "<class 'pandas.core.frame.DataFrame'>\n",
      "RangeIndex: 10000 entries, 0 to 9999\n",
      "Data columns (total 2 columns):\n",
      " #   Column          Non-Null Count  Dtype \n",
      "---  ------          --------------  ----- \n",
      " 0   product         10000 non-null  object\n",
      " 1   banner_clicked  10000 non-null  int64 \n",
      "dtypes: int64(1), object(1)\n",
      "memory usage: 156.4+ KB\n"
     ]
    }
   ],
   "source": [
    "data.info()"
   ]
  },
  {
   "cell_type": "code",
   "execution_count": 5,
   "id": "3a94244c-f2c4-4d49-9b37-0ad72258dd7e",
   "metadata": {},
   "outputs": [
    {
     "data": {
      "text/html": [
       "<div>\n",
       "<style scoped>\n",
       "    .dataframe tbody tr th:only-of-type {\n",
       "        vertical-align: middle;\n",
       "    }\n",
       "\n",
       "    .dataframe tbody tr th {\n",
       "        vertical-align: top;\n",
       "    }\n",
       "\n",
       "    .dataframe thead th {\n",
       "        text-align: right;\n",
       "    }\n",
       "</style>\n",
       "<table border=\"1\" class=\"dataframe\">\n",
       "  <thead>\n",
       "    <tr style=\"text-align: right;\">\n",
       "      <th></th>\n",
       "      <th>banner_clicked</th>\n",
       "    </tr>\n",
       "  </thead>\n",
       "  <tbody>\n",
       "    <tr>\n",
       "      <th>count</th>\n",
       "      <td>10000.000000</td>\n",
       "    </tr>\n",
       "    <tr>\n",
       "      <th>mean</th>\n",
       "      <td>0.123400</td>\n",
       "    </tr>\n",
       "    <tr>\n",
       "      <th>std</th>\n",
       "      <td>0.328912</td>\n",
       "    </tr>\n",
       "    <tr>\n",
       "      <th>min</th>\n",
       "      <td>0.000000</td>\n",
       "    </tr>\n",
       "    <tr>\n",
       "      <th>25%</th>\n",
       "      <td>0.000000</td>\n",
       "    </tr>\n",
       "    <tr>\n",
       "      <th>50%</th>\n",
       "      <td>0.000000</td>\n",
       "    </tr>\n",
       "    <tr>\n",
       "      <th>75%</th>\n",
       "      <td>0.000000</td>\n",
       "    </tr>\n",
       "    <tr>\n",
       "      <th>max</th>\n",
       "      <td>1.000000</td>\n",
       "    </tr>\n",
       "  </tbody>\n",
       "</table>\n",
       "</div>"
      ],
      "text/plain": [
       "       banner_clicked\n",
       "count    10000.000000\n",
       "mean         0.123400\n",
       "std          0.328912\n",
       "min          0.000000\n",
       "25%          0.000000\n",
       "50%          0.000000\n",
       "75%          0.000000\n",
       "max          1.000000"
      ]
     },
     "execution_count": 5,
     "metadata": {},
     "output_type": "execute_result"
    }
   ],
   "source": [
    "data.describe()"
   ]
  },
  {
   "cell_type": "code",
   "execution_count": 12,
   "id": "52e9051d-6ec8-464d-b419-0524395a4527",
   "metadata": {},
   "outputs": [
    {
     "data": {
      "text/html": [
       "<div>\n",
       "<style scoped>\n",
       "    .dataframe tbody tr th:only-of-type {\n",
       "        vertical-align: middle;\n",
       "    }\n",
       "\n",
       "    .dataframe tbody tr th {\n",
       "        vertical-align: top;\n",
       "    }\n",
       "\n",
       "    .dataframe thead th {\n",
       "        text-align: right;\n",
       "    }\n",
       "</style>\n",
       "<table border=\"1\" class=\"dataframe\">\n",
       "  <thead>\n",
       "    <tr style=\"text-align: right;\">\n",
       "      <th></th>\n",
       "      <th>banner_clicked</th>\n",
       "    </tr>\n",
       "    <tr>\n",
       "      <th>product</th>\n",
       "      <th></th>\n",
       "    </tr>\n",
       "  </thead>\n",
       "  <tbody>\n",
       "    <tr>\n",
       "      <th>A</th>\n",
       "      <td>5028</td>\n",
       "    </tr>\n",
       "    <tr>\n",
       "      <th>B</th>\n",
       "      <td>4972</td>\n",
       "    </tr>\n",
       "  </tbody>\n",
       "</table>\n",
       "</div>"
      ],
      "text/plain": [
       "         banner_clicked\n",
       "product                \n",
       "A                  5028\n",
       "B                  4972"
      ]
     },
     "execution_count": 12,
     "metadata": {},
     "output_type": "execute_result"
    }
   ],
   "source": [
    "# total people who saw each product ad\n",
    "data.groupby('product').count()"
   ]
  },
  {
   "cell_type": "code",
   "execution_count": 11,
   "id": "1afcce86-16cf-49ba-9c3a-f9d72faa5ab7",
   "metadata": {},
   "outputs": [
    {
     "data": {
      "text/html": [
       "<div>\n",
       "<style scoped>\n",
       "    .dataframe tbody tr th:only-of-type {\n",
       "        vertical-align: middle;\n",
       "    }\n",
       "\n",
       "    .dataframe tbody tr th {\n",
       "        vertical-align: top;\n",
       "    }\n",
       "\n",
       "    .dataframe thead th {\n",
       "        text-align: right;\n",
       "    }\n",
       "</style>\n",
       "<table border=\"1\" class=\"dataframe\">\n",
       "  <thead>\n",
       "    <tr style=\"text-align: right;\">\n",
       "      <th></th>\n",
       "      <th>banner_clicked</th>\n",
       "    </tr>\n",
       "    <tr>\n",
       "      <th>product</th>\n",
       "      <th></th>\n",
       "    </tr>\n",
       "  </thead>\n",
       "  <tbody>\n",
       "    <tr>\n",
       "      <th>A</th>\n",
       "      <td>654</td>\n",
       "    </tr>\n",
       "    <tr>\n",
       "      <th>B</th>\n",
       "      <td>580</td>\n",
       "    </tr>\n",
       "  </tbody>\n",
       "</table>\n",
       "</div>"
      ],
      "text/plain": [
       "         banner_clicked\n",
       "product                \n",
       "A                   654\n",
       "B                   580"
      ]
     },
     "execution_count": 11,
     "metadata": {},
     "output_type": "execute_result"
    }
   ],
   "source": [
    "# no. of people clicked the banner for each product ad\n",
    "data.groupby('product').sum('banner_clicked')"
   ]
  },
  {
   "cell_type": "markdown",
   "id": "dd156cfc-71b4-47b8-bd60-ee4a82dd0805",
   "metadata": {},
   "source": [
    "## Ploting the bar chart"
   ]
  },
  {
   "cell_type": "code",
   "execution_count": 14,
   "id": "f5481c73-1e71-440c-98b0-27e316f39bd8",
   "metadata": {},
   "outputs": [
    {
     "data": {
      "image/png": "[encoded data removed]",
      "text/plain": [
       "<Figure size 640x480 with 1 Axes>"
      ]
     },
     "metadata": {},
     "output_type": "display_data"
    }
   ],
   "source": [
    "click_counts = data.groupby(['product', 'banner_clicked']).size().unstack(fill_value=0)\n",
    "\n",
    "# Rename columns for clarity\n",
    "click_counts.columns = ['No Click', 'Click']\n",
    "\n",
    "# Plot stacked bar chart\n",
    "click_counts.plot(kind='bar', stacked=True, color=['red', 'skyblue'])\n",
    "plt.title(\"Clicks and No Clicks by Ad\")\n",
    "plt.xlabel(\"Ad Version\")\n",
    "plt.ylabel(\"Number of Users\")\n",
    "plt.xticks([0, 1], ['Ad A', 'Ad B'], rotation=0)\n",
    "plt.legend()\n",
    "plt.tight_layout()\n",
    "plt.show()"
   ]
  },
  {
   "cell_type": "markdown",
   "id": "521c125b-a8d9-466c-a682-24c0786789a0",
   "metadata": {},
   "source": [
    "## Parameters of the model"
   ]
  },
  {
   "cell_type": "code",
   "execution_count": 15,
   "id": "c1293f20-a073-4f8b-baee-56263a62944c",
   "metadata": {},
   "outputs": [],
   "source": [
    "alpha = 0.05 # 5% - significance level\n",
    "delta = 0.1 # 10 percent minimum detectable effect "
   ]
  },
  {
   "cell_type": "markdown",
   "id": "d54e30a9-13ea-409b-8d8a-633c03c321c9",
   "metadata": {},
   "source": [
    "## Calculate total no. of clicks per group "
   ]
  },
  {
   "cell_type": "code",
   "execution_count": 19,
   "id": "b98ab2e1-99a6-4200-aba4-6e603be03fac",
   "metadata": {},
   "outputs": [
    {
     "name": "stdout",
     "output_type": "stream",
     "text": [
      "no. of people who saw product A:  product           5028\n",
      "banner_clicked    5028\n",
      "dtype: int64\n",
      "no. of people who saw product B:  product           4972\n",
      "banner_clicked    4972\n",
      "dtype: int64\n",
      "no. of clicks in product A:  654\n",
      "no. of clicks in product B:  580\n"
     ]
    }
   ],
   "source": [
    "# Calculate total no. of people who saw this product ad\n",
    "a_total = data[data['product']=='A'].count()\n",
    "b_total = data[data['product']=='B'].count()\n",
    "print(\"no. of people who saw product A: \",a_total)\n",
    "print(\"no. of people who saw product B: \",b_total)\n",
    "\n",
    "# calculate total no. of click per group\n",
    "a_clicks = data.groupby('product')['banner_clicked'].sum().loc['A']\n",
    "b_clicks = data.groupby('product')['banner_clicked'].sum().loc['B']\n",
    "print(\"no. of clicks in product A: \",a_clicks)\n",
    "print(\"no. of clicks in product B: \",b_clicks)"
   ]
  },
  {
   "cell_type": "markdown",
   "id": "cbf7c9ed-2007-4ee5-9acb-6d620a8e255f",
   "metadata": {},
   "source": [
    "## Calculate Pool Estimates for clicks per product"
   ]
  },
  {
   "cell_type": "code",
   "execution_count": 23,
   "id": "ce38c880-87a1-4b4c-bd0f-e9eafc97b31d",
   "metadata": {},
   "outputs": [
    {
     "name": "stdout",
     "output_type": "stream",
     "text": [
      "click probability in product A:  product           0.130072\n",
      "banner_clicked    0.130072\n",
      "dtype: float64\n",
      "click probability in product B:  product           0.116653\n",
      "banner_clicked    0.116653\n",
      "dtype: float64\n",
      "pooled click probability:  product           0.1234\n",
      "banner_clicked    0.1234\n",
      "dtype: float64\n"
     ]
    }
   ],
   "source": [
    "p_a_hat=a_clicks/a_total\n",
    "p_b_hat=b_clicks/b_total\n",
    "print('click probability in product A: ',p_a_hat)\n",
    "print('click probability in product B: ',p_b_hat)\n",
    "\n",
    "#computing estimate of pooled clicked probability \n",
    "p_pooled_hat=(a_clicks+b_clicks)/(a_total+b_total)\n",
    "print('pooled click probability: ',p_pooled_hat)"
   ]
  },
  {
   "cell_type": "markdown",
   "id": "659638d3-3041-4f7d-a285-e7cfb0919d6a",
   "metadata": {},
   "source": [
    "## Calculating Pooled Variance"
   ]
  },
  {
   "cell_type": "code",
   "execution_count": 24,
   "id": "24b2d4ef-5f8a-4d6b-9cf4-16783ba838b7",
   "metadata": {},
   "outputs": [
    {
     "name": "stdout",
     "output_type": "stream",
     "text": [
      "pooled variance is : product           0.000043\n",
      "banner_clicked    0.000043\n",
      "dtype: float64\n"
     ]
    }
   ],
   "source": [
    "pooled_variance= p_pooled_hat * (1-p_pooled_hat)*(1/a_total + 1/b_total)\n",
    "print('pooled variance is :',pooled_variance)"
   ]
  },
  {
   "cell_type": "markdown",
   "id": "21f1601b-3940-4bba-8063-a7d41098c5bf",
   "metadata": {},
   "source": [
    "  ## Calculating standard error and test statistics"
   ]
  },
  {
   "cell_type": "code",
   "execution_count": 26,
   "id": "77e23997-dee5-44b4-8131-2d4134c72432",
   "metadata": {},
   "outputs": [
    {
     "name": "stdout",
     "output_type": "stream",
     "text": [
      "Standard Error is :  product           0.006578\n",
      "banner_clicked    0.006578\n",
      "dtype: float64\n",
      "Test Statistics is :  product           2.039876\n",
      "banner_clicked    2.039876\n",
      "dtype: float64\n",
      "Z critical value from standard normal distribution :  1.959963984540054\n"
     ]
    }
   ],
   "source": [
    "SE= np.sqrt(pooled_variance)\n",
    "print('Standard Error is : ',SE)\n",
    "\n",
    "test_stat=(p_a_hat-p_b_hat)/SE\n",
    "print('Test Statistics is : ',test_stat)\n",
    "\n",
    "z_crit=norm.ppf(1-alpha/2)\n",
    "print('Z critical value from standard normal distribution : ',z_crit)\n"
   ]
  },
  {
   "cell_type": "markdown",
   "id": "e47d9fa5-0945-4d6c-b875-d32b1c515ab5",
   "metadata": {},
   "source": [
    "## Calculating p values for the z-test"
   ]
  },
  {
   "cell_type": "code",
   "execution_count": 38,
   "id": "87dc6699-e96e-412c-9864-f2216efe612f",
   "metadata": {},
   "outputs": [
    {
     "name": "stdout",
     "output_type": "stream",
     "text": [
      "p_value is : 0.041\n",
      "There is statistical significance indicating differences in the groups are unlikely due to chance \n"
     ]
    }
   ],
   "source": [
    "p_value = 2 * norm.sf(abs(test_stat))\n",
    "p_value=round(p_value[0],3)\n",
    "print('p_value is :',p_value)\n",
    "if p_value<=alpha:\n",
    "        print('There is statistical significance indicating differences in the groups are unlikely due to chance ')\n",
    "else :\n",
    "        print(' There is no statistical significance indicating  differences are likely due to chance')\n",
    "\n"
   ]
  },
  {
   "cell_type": "markdown",
   "id": "eab25df0-2242-4ba0-97d0-823cd83c2a30",
   "metadata": {},
   "source": [
    "## Calculate Confidence Interval of the test"
   ]
  },
  {
   "cell_type": "code",
   "execution_count": 42,
   "id": "20867707-97db-44ff-b4bc-b924e11d6e77",
   "metadata": {},
   "outputs": [
    {
     "name": "stdout",
     "output_type": "stream",
     "text": [
      "Lower bound of Confidence Interval of the 2 sample z test is: product           0.001\n",
      "banner_clicked    0.001\n",
      "dtype: float64\n",
      "Upper bound of Confidence Interval of the 2 sample z test is: product           0.026\n",
      "banner_clicked    0.026\n",
      "dtype: float64\n"
     ]
    }
   ],
   "source": [
    "CI=[\n",
    "    round((p_a_hat-p_b_hat)-SE*z_crit,3), #lower bound of CI\n",
    "     round((p_a_hat-p_b_hat)+SE*z_crit,3)  #Upper bound of CI\n",
    "]\n",
    "\n",
    "print('Lower bound of Confidence Interval of the 2 sample z test is:',CI[0])\n",
    "print('Upper bound of Confidence Interval of the 2 sample z test is:',CI[1])"
   ]
  },
  {
   "cell_type": "markdown",
   "id": "60ceacfd-1dce-41e9-8ada-ab1061c5ffe9",
   "metadata": {},
   "source": [
    "## Testing for practical significance for A/B Testing\n"
   ]
  },
  {
   "cell_type": "code",
   "execution_count": 49,
   "id": "92d76edf-cb51-45eb-a25b-f9b1adb21909",
   "metadata": {},
   "outputs": [
    {
     "name": "stdout",
     "output_type": "stream",
     "text": [
      "We do not have practical significance\n"
     ]
    }
   ],
   "source": [
    "\n",
    "\n",
    "if delta<=CI[0]['product']:\n",
    "    print('We have practical significance ! with MDE as: ',delta )\n",
    "else : \n",
    "    print('We do not have practical significance')"
   ]
  },
  {
   "cell_type": "markdown",
   "id": "aa088464-fd01-489c-9565-851375f8efae",
   "metadata": {},
   "source": [
    "## Business Insights"
   ]
  },
  {
   "cell_type": "markdown",
   "id": "fbaf0d7e-ef54-4f76-a5d3-2e782ae843aa",
   "metadata": {},
   "source": [
    "**1) Conversion Rates:**\n",
    "    Ad A had a click-through (conversion) rate of 13%.\n",
    "    Ad A had a click-through (conversion) rate of 11%.\n",
    "\n",
    "**2) Statistical Significance:**\n",
    "     A Z-test was conducted to compare the conversion rates of Ad A and Ad B.\n",
    "     The p value of 0.041 was found to be <0.05,, indicating that the difference between the two ads is statistically significant (not due to random chance).\n",
    "     \n",
    "**3) Practical Significance**\n",
    "     With a Minimum Detectable Effect (MDE) of 0.1 and a confidence interval lower bound of 0.001, the difference between Ad A and B does not meet the practical significance threshold."
   ]
  },
  {
   "cell_type": "markdown",
   "id": "186ff828-f6f1-41a2-9949-eeff2c5a8942",
   "metadata": {},
   "source": [
    "## Result\n",
    "\n",
    "**Stick with ad A:**\n",
    "  Even though there might be a small improvement, it’s not practically large enough to confidently switch campaigns or invest further in Ad B."
   ]
  },
  {
   "cell_type": "code",
   "execution_count": null,
   "id": "275c5f84-999a-4fca-86ce-fe32ffa5907f",
   "metadata": {},
   "outputs": [],
   "source": []
  }
 ],
 "metadata": {
  "kernelspec": {
   "display_name": "Python 3 (ipykernel)",
   "language": "python",
   "name": "python3"
  },
  "language_info": {
   "codemirror_mode": {
    "name": "ipython",
    "version": 3
   },
   "file_extension": ".py",
   "mimetype": "text/x-python",
   "name": "python",
   "nbconvert_exporter": "python",
   "pygments_lexer": "ipython3",
   "version": "3.9.13"
  }
 },
 "nbformat": 4,
 "nbformat_minor": 5
}
